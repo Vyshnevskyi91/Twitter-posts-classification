{
 "cells": [
  {
   "cell_type": "code",
   "execution_count": 23,
   "id": "94f38db8-0dd6-496c-b9d1-b9091a53bdfa",
   "metadata": {},
   "outputs": [],
   "source": [
    "import sqlite3\n",
    "import pandas as pd\n",
    "import matplotlib.pyplot as plt\n",
    "from sklearn.model_selection import train_test_split\n",
    "from sklearn.feature_extraction.text import CountVectorizer\n",
    "from sklearn.naive_bayes import MultinomialNB\n",
    "from sklearn.metrics import accuracy_score, classification_report, confusion_matrix\n",
    "import nltk\n",
    "from nltk.corpus import stopwords\n",
    "from nltk.stem import PorterStemmer\n",
    "from nltk.tokenize import word_tokenize\n",
    "from sklearn.ensemble import RandomForestClassifier\n",
    "from sklearn.svm import SVC"
   ]
  },
  {
   "cell_type": "code",
   "execution_count": 24,
   "id": "67d237e9-eeb1-4118-b0cc-7ebea75c9854",
   "metadata": {},
   "outputs": [
    {
     "name": "stderr",
     "output_type": "stream",
     "text": [
      "[nltk_data] Downloading package stopwords to\n",
      "[nltk_data]     C:\\Users\\Admin\\AppData\\Roaming\\nltk_data...\n",
      "[nltk_data]   Package stopwords is already up-to-date!\n",
      "[nltk_data] Downloading package punkt to\n",
      "[nltk_data]     C:\\Users\\Admin\\AppData\\Roaming\\nltk_data...\n",
      "[nltk_data]   Package punkt is already up-to-date!\n"
     ]
    },
    {
     "data": {
      "text/plain": [
       "True"
      ]
     },
     "execution_count": 24,
     "metadata": {},
     "output_type": "execute_result"
    }
   ],
   "source": [
    "nltk.download('stopwords')\n",
    "nltk.download('punkt')"
   ]
  },
  {
   "cell_type": "code",
   "execution_count": 25,
   "id": "eeeebb1a-834f-4ece-9773-6324f362330f",
   "metadata": {},
   "outputs": [],
   "source": [
    "def preprocess_text(text):\n",
    "    # Tokenization\n",
    "    words = word_tokenize(text)\n",
    "\n",
    "    # Removing stop words\n",
    "    stop_words = set(stopwords.words('english'))\n",
    "    words = [word.lower() for word in words if word.isalnum() and word.lower() not in stop_words]\n",
    "\n",
    "    # Stemming\n",
    "    stemmer = PorterStemmer()\n",
    "    words = [stemmer.stem(word) for word in words]\n",
    "\n",
    "    return ' '.join(words)"
   ]
  },
  {
   "cell_type": "code",
   "execution_count": 26,
   "id": "d503d638-2172-4875-8587-6bc76ee38b58",
   "metadata": {},
   "outputs": [],
   "source": [
    "# Connect to the SQLite database\n",
    "database_path = r'C:\\Users\\Admin\\Desktop\\database.sqlite'\n",
    "connection = sqlite3.connect(database_path)\n",
    "\n",
    "# Read a table into a DataFrame\n",
    "query = f\"SELECT * FROM 'Tweets';\"\n",
    "df = pd.read_sql_query(query, connection)"
   ]
  },
  {
   "cell_type": "code",
   "execution_count": 27,
   "id": "9246174e-4455-4981-b054-cca8eee676ec",
   "metadata": {},
   "outputs": [
    {
     "data": {
      "text/plain": [
       "(14485, 15)"
      ]
     },
     "execution_count": 27,
     "metadata": {},
     "output_type": "execute_result"
    }
   ],
   "source": [
    "df.shape"
   ]
  },
  {
   "cell_type": "code",
   "execution_count": 28,
   "id": "5812e631-8520-49bd-9b95-c6f4161fa250",
   "metadata": {},
   "outputs": [
    {
     "data": {
      "text/plain": [
       "negative    9082\n",
       "neutral     3069\n",
       "positive    2334\n",
       "Name: airline_sentiment, dtype: int64"
      ]
     },
     "execution_count": 28,
     "metadata": {},
     "output_type": "execute_result"
    }
   ],
   "source": [
    "df['airline_sentiment'].value_counts()"
   ]
  },
  {
   "cell_type": "code",
   "execution_count": 29,
   "id": "36c6e2d8-688f-4c49-8ca5-b27bc8d958ed",
   "metadata": {},
   "outputs": [
    {
     "data": {
      "text/html": [
       "<div>\n",
       "<style scoped>\n",
       "    .dataframe tbody tr th:only-of-type {\n",
       "        vertical-align: middle;\n",
       "    }\n",
       "\n",
       "    .dataframe tbody tr th {\n",
       "        vertical-align: top;\n",
       "    }\n",
       "\n",
       "    .dataframe thead th {\n",
       "        text-align: right;\n",
       "    }\n",
       "</style>\n",
       "<table border=\"1\" class=\"dataframe\">\n",
       "  <thead>\n",
       "    <tr style=\"text-align: right;\">\n",
       "      <th></th>\n",
       "      <th>tweet_id</th>\n",
       "      <th>airline_sentiment</th>\n",
       "      <th>airline_sentiment_confidence</th>\n",
       "      <th>negativereason</th>\n",
       "      <th>negativereason_confidence</th>\n",
       "      <th>airline</th>\n",
       "      <th>airline_sentiment_gold</th>\n",
       "      <th>name</th>\n",
       "      <th>negativereason_gold</th>\n",
       "      <th>retweet_count</th>\n",
       "      <th>text</th>\n",
       "      <th>tweet_coord</th>\n",
       "      <th>tweet_created</th>\n",
       "      <th>tweet_location</th>\n",
       "      <th>user_timezone</th>\n",
       "    </tr>\n",
       "  </thead>\n",
       "  <tbody>\n",
       "    <tr>\n",
       "      <th>0</th>\n",
       "      <td>567588278875213824</td>\n",
       "      <td>neutral</td>\n",
       "      <td>1.0000</td>\n",
       "      <td></td>\n",
       "      <td></td>\n",
       "      <td>Delta</td>\n",
       "      <td></td>\n",
       "      <td>JetBlueNews</td>\n",
       "      <td></td>\n",
       "      <td>0</td>\n",
       "      <td>@JetBlue's new CEO seeks the right balance to ...</td>\n",
       "      <td></td>\n",
       "      <td>2015-02-16 23:36:05 -0800</td>\n",
       "      <td>USA</td>\n",
       "      <td>Sydney</td>\n",
       "    </tr>\n",
       "    <tr>\n",
       "      <th>1</th>\n",
       "      <td>567590027375702016</td>\n",
       "      <td>negative</td>\n",
       "      <td>1.0000</td>\n",
       "      <td>Can't Tell</td>\n",
       "      <td>0.6503</td>\n",
       "      <td>Delta</td>\n",
       "      <td></td>\n",
       "      <td>nesi_1992</td>\n",
       "      <td></td>\n",
       "      <td>0</td>\n",
       "      <td>@JetBlue is REALLY getting on my nerves !! 😡😡 ...</td>\n",
       "      <td></td>\n",
       "      <td>2015-02-16 23:43:02 -0800</td>\n",
       "      <td>undecided</td>\n",
       "      <td>Pacific Time (US &amp; Canada)</td>\n",
       "    </tr>\n",
       "    <tr>\n",
       "      <th>2</th>\n",
       "      <td>567591480085463040</td>\n",
       "      <td>negative</td>\n",
       "      <td>1.0000</td>\n",
       "      <td>Late Flight</td>\n",
       "      <td>0.346</td>\n",
       "      <td>United</td>\n",
       "      <td></td>\n",
       "      <td>CPoutloud</td>\n",
       "      <td></td>\n",
       "      <td>0</td>\n",
       "      <td>@united yes. We waited in line for almost an h...</td>\n",
       "      <td></td>\n",
       "      <td>2015-02-16 23:48:48 -0800</td>\n",
       "      <td>Washington, DC</td>\n",
       "      <td></td>\n",
       "    </tr>\n",
       "    <tr>\n",
       "      <th>3</th>\n",
       "      <td>567592368451248130</td>\n",
       "      <td>negative</td>\n",
       "      <td>1.0000</td>\n",
       "      <td>Late Flight</td>\n",
       "      <td>1</td>\n",
       "      <td>United</td>\n",
       "      <td></td>\n",
       "      <td>brenduch</td>\n",
       "      <td></td>\n",
       "      <td>0</td>\n",
       "      <td>@united the we got into the gate at IAH on tim...</td>\n",
       "      <td></td>\n",
       "      <td>2015-02-16 23:52:20 -0800</td>\n",
       "      <td></td>\n",
       "      <td>Buenos Aires</td>\n",
       "    </tr>\n",
       "    <tr>\n",
       "      <th>4</th>\n",
       "      <td>567594449874587648</td>\n",
       "      <td>negative</td>\n",
       "      <td>1.0000</td>\n",
       "      <td>Customer Service Issue</td>\n",
       "      <td>0.3451</td>\n",
       "      <td>Southwest</td>\n",
       "      <td></td>\n",
       "      <td>VahidESQ</td>\n",
       "      <td></td>\n",
       "      <td>0</td>\n",
       "      <td>@SouthwestAir its cool that my bags take a bit...</td>\n",
       "      <td></td>\n",
       "      <td>2015-02-17 00:00:36 -0800</td>\n",
       "      <td>Los Angeles, CA</td>\n",
       "      <td>Pacific Time (US &amp; Canada)</td>\n",
       "    </tr>\n",
       "    <tr>\n",
       "      <th>...</th>\n",
       "      <td>...</td>\n",
       "      <td>...</td>\n",
       "      <td>...</td>\n",
       "      <td>...</td>\n",
       "      <td>...</td>\n",
       "      <td>...</td>\n",
       "      <td>...</td>\n",
       "      <td>...</td>\n",
       "      <td>...</td>\n",
       "      <td>...</td>\n",
       "      <td>...</td>\n",
       "      <td>...</td>\n",
       "      <td>...</td>\n",
       "      <td>...</td>\n",
       "      <td>...</td>\n",
       "    </tr>\n",
       "    <tr>\n",
       "      <th>14480</th>\n",
       "      <td>570309308937842688</td>\n",
       "      <td>neutral</td>\n",
       "      <td>0.6869</td>\n",
       "      <td></td>\n",
       "      <td></td>\n",
       "      <td>Delta</td>\n",
       "      <td></td>\n",
       "      <td>Oneladyyouadore</td>\n",
       "      <td></td>\n",
       "      <td>0</td>\n",
       "      <td>@JetBlue I hope so because I fly very often an...</td>\n",
       "      <td></td>\n",
       "      <td>2015-02-24 11:48:29 -0800</td>\n",
       "      <td>Georgia</td>\n",
       "      <td>Quito</td>\n",
       "    </tr>\n",
       "    <tr>\n",
       "      <th>14481</th>\n",
       "      <td>570309340952993796</td>\n",
       "      <td>neutral</td>\n",
       "      <td>1.0000</td>\n",
       "      <td></td>\n",
       "      <td></td>\n",
       "      <td>US Airways</td>\n",
       "      <td></td>\n",
       "      <td>DebbiMcGinnis</td>\n",
       "      <td></td>\n",
       "      <td>0</td>\n",
       "      <td>@USAirways is a DM possible if you aren't foll...</td>\n",
       "      <td></td>\n",
       "      <td>2015-02-24 11:48:37 -0800</td>\n",
       "      <td>Missourah</td>\n",
       "      <td>Hawaii</td>\n",
       "    </tr>\n",
       "    <tr>\n",
       "      <th>14482</th>\n",
       "      <td>570309345281486848</td>\n",
       "      <td>positive</td>\n",
       "      <td>0.6469</td>\n",
       "      <td></td>\n",
       "      <td></td>\n",
       "      <td>Delta</td>\n",
       "      <td></td>\n",
       "      <td>jaxbra</td>\n",
       "      <td></td>\n",
       "      <td>0</td>\n",
       "      <td>@JetBlue Yesterday on my way from EWR to FLL j...</td>\n",
       "      <td></td>\n",
       "      <td>2015-02-24 11:48:38 -0800</td>\n",
       "      <td>east brunswick, nj</td>\n",
       "      <td>Atlantic Time (Canada)</td>\n",
       "    </tr>\n",
       "    <tr>\n",
       "      <th>14483</th>\n",
       "      <td>570310144459972608</td>\n",
       "      <td>negative</td>\n",
       "      <td>1.0000</td>\n",
       "      <td>Customer Service Issue</td>\n",
       "      <td>1</td>\n",
       "      <td>US Airways</td>\n",
       "      <td></td>\n",
       "      <td>GAKotsch</td>\n",
       "      <td></td>\n",
       "      <td>0</td>\n",
       "      <td>@USAirways and when will one of these agents b...</td>\n",
       "      <td></td>\n",
       "      <td>2015-02-24 11:51:48 -0800</td>\n",
       "      <td></td>\n",
       "      <td>Atlantic Time (Canada)</td>\n",
       "    </tr>\n",
       "    <tr>\n",
       "      <th>14484</th>\n",
       "      <td>570310600460525568</td>\n",
       "      <td>negative</td>\n",
       "      <td>0.6292</td>\n",
       "      <td>Flight Booking Problems</td>\n",
       "      <td>0.3146</td>\n",
       "      <td>US Airways</td>\n",
       "      <td></td>\n",
       "      <td>jhazelnut</td>\n",
       "      <td></td>\n",
       "      <td>0</td>\n",
       "      <td>@USAirways  is there a better time to call? My...</td>\n",
       "      <td></td>\n",
       "      <td>2015-02-24 11:53:37 -0800</td>\n",
       "      <td></td>\n",
       "      <td></td>\n",
       "    </tr>\n",
       "  </tbody>\n",
       "</table>\n",
       "<p>14485 rows × 15 columns</p>\n",
       "</div>"
      ],
      "text/plain": [
       "                 tweet_id airline_sentiment  airline_sentiment_confidence  \\\n",
       "0      567588278875213824           neutral                        1.0000   \n",
       "1      567590027375702016          negative                        1.0000   \n",
       "2      567591480085463040          negative                        1.0000   \n",
       "3      567592368451248130          negative                        1.0000   \n",
       "4      567594449874587648          negative                        1.0000   \n",
       "...                   ...               ...                           ...   \n",
       "14480  570309308937842688           neutral                        0.6869   \n",
       "14481  570309340952993796           neutral                        1.0000   \n",
       "14482  570309345281486848          positive                        0.6469   \n",
       "14483  570310144459972608          negative                        1.0000   \n",
       "14484  570310600460525568          negative                        0.6292   \n",
       "\n",
       "                negativereason negativereason_confidence     airline  \\\n",
       "0                                                              Delta   \n",
       "1                   Can't Tell                    0.6503       Delta   \n",
       "2                  Late Flight                     0.346      United   \n",
       "3                  Late Flight                         1      United   \n",
       "4       Customer Service Issue                    0.3451   Southwest   \n",
       "...                        ...                       ...         ...   \n",
       "14480                                                          Delta   \n",
       "14481                                                     US Airways   \n",
       "14482                                                          Delta   \n",
       "14483   Customer Service Issue                         1  US Airways   \n",
       "14484  Flight Booking Problems                    0.3146  US Airways   \n",
       "\n",
       "      airline_sentiment_gold             name negativereason_gold  \\\n",
       "0                                 JetBlueNews                       \n",
       "1                                   nesi_1992                       \n",
       "2                                   CPoutloud                       \n",
       "3                                    brenduch                       \n",
       "4                                    VahidESQ                       \n",
       "...                      ...              ...                 ...   \n",
       "14480                         Oneladyyouadore                       \n",
       "14481                           DebbiMcGinnis                       \n",
       "14482                                  jaxbra                       \n",
       "14483                                GAKotsch                       \n",
       "14484                               jhazelnut                       \n",
       "\n",
       "       retweet_count                                               text  \\\n",
       "0                  0  @JetBlue's new CEO seeks the right balance to ...   \n",
       "1                  0  @JetBlue is REALLY getting on my nerves !! 😡😡 ...   \n",
       "2                  0  @united yes. We waited in line for almost an h...   \n",
       "3                  0  @united the we got into the gate at IAH on tim...   \n",
       "4                  0  @SouthwestAir its cool that my bags take a bit...   \n",
       "...              ...                                                ...   \n",
       "14480              0  @JetBlue I hope so because I fly very often an...   \n",
       "14481              0  @USAirways is a DM possible if you aren't foll...   \n",
       "14482              0  @JetBlue Yesterday on my way from EWR to FLL j...   \n",
       "14483              0  @USAirways and when will one of these agents b...   \n",
       "14484              0  @USAirways  is there a better time to call? My...   \n",
       "\n",
       "      tweet_coord              tweet_created      tweet_location  \\\n",
       "0                  2015-02-16 23:36:05 -0800                 USA   \n",
       "1                  2015-02-16 23:43:02 -0800           undecided   \n",
       "2                  2015-02-16 23:48:48 -0800      Washington, DC   \n",
       "3                  2015-02-16 23:52:20 -0800                       \n",
       "4                  2015-02-17 00:00:36 -0800     Los Angeles, CA   \n",
       "...           ...                        ...                 ...   \n",
       "14480              2015-02-24 11:48:29 -0800             Georgia   \n",
       "14481              2015-02-24 11:48:37 -0800           Missourah   \n",
       "14482              2015-02-24 11:48:38 -0800  east brunswick, nj   \n",
       "14483              2015-02-24 11:51:48 -0800                       \n",
       "14484              2015-02-24 11:53:37 -0800                       \n",
       "\n",
       "                    user_timezone  \n",
       "0                          Sydney  \n",
       "1      Pacific Time (US & Canada)  \n",
       "2                                  \n",
       "3                    Buenos Aires  \n",
       "4      Pacific Time (US & Canada)  \n",
       "...                           ...  \n",
       "14480                       Quito  \n",
       "14481                      Hawaii  \n",
       "14482      Atlantic Time (Canada)  \n",
       "14483      Atlantic Time (Canada)  \n",
       "14484                              \n",
       "\n",
       "[14485 rows x 15 columns]"
      ]
     },
     "execution_count": 29,
     "metadata": {},
     "output_type": "execute_result"
    }
   ],
   "source": [
    "df"
   ]
  },
  {
   "cell_type": "code",
   "execution_count": 30,
   "id": "fc53fe03-66d7-4c64-8131-3a95a9515db8",
   "metadata": {},
   "outputs": [],
   "source": [
    "tweet=df['airline'].value_counts()"
   ]
  },
  {
   "cell_type": "code",
   "execution_count": 31,
   "id": "776de06f-805e-47b8-87b7-9dc6c99f5a75",
   "metadata": {},
   "outputs": [
    {
     "name": "stdout",
     "output_type": "stream",
     "text": [
      "United            3822\n",
      "US Airways        2913\n",
      "American          2604\n",
      "Southwest         2420\n",
      "Delta             2222\n",
      "Virgin America     504\n",
      "Name: airline, dtype: int64\n"
     ]
    }
   ],
   "source": [
    "print(tweet)"
   ]
  },
  {
   "cell_type": "code",
   "execution_count": 32,
   "id": "97bfcb31-8b6b-44e8-896e-51bbdc1b4039",
   "metadata": {},
   "outputs": [],
   "source": [
    "neg_tweet=df[df['airline_sentiment'] == 'negative'].groupby('airline')['airline'].count()"
   ]
  },
  {
   "cell_type": "code",
   "execution_count": 33,
   "id": "e0bd10d2-fcb0-4101-9921-25b617461ee5",
   "metadata": {},
   "outputs": [
    {
     "name": "stdout",
     "output_type": "stream",
     "text": [
      "airline\n",
      "American          1864\n",
      "Delta              955\n",
      "Southwest         1186\n",
      "US Airways        2263\n",
      "United            2633\n",
      "Virgin America     181\n",
      "Name: airline, dtype: int64\n"
     ]
    }
   ],
   "source": [
    "print(neg_tweet)"
   ]
  },
  {
   "cell_type": "code",
   "execution_count": 34,
   "id": "c2ed3d7f-8030-4d35-bf7f-3fe66e6942eb",
   "metadata": {},
   "outputs": [],
   "source": [
    "neg_perc=neg_tweet/tweet*100"
   ]
  },
  {
   "cell_type": "code",
   "execution_count": 35,
   "id": "66336b90-be0c-4cd1-a1fb-5e49ade2f262",
   "metadata": {},
   "outputs": [
    {
     "data": {
      "image/png": "[encoded data removed]",
      "text/plain": [
       "<Figure size 1000x600 with 1 Axes>"
      ]
     },
     "metadata": {},
     "output_type": "display_data"
    }
   ],
   "source": [
    "plt.figure(figsize=(10, 6))\n",
    "bars = plt.bar(neg_perc.index, neg_perc, color='grey', alpha=0.7)\n",
    "\n",
    "# Find the index of the highest negative sentiment percentage\n",
    "max_index = neg_perc.idxmax()\n",
    "\n",
    "# Highlight the highest bar in red\n",
    "for bar in bars:\n",
    "    if bar.get_height() == neg_perc[max_index]:\n",
    "        bar.set_color('red')\n",
    "\n",
    "# Set plot labels and title\n",
    "plt.xlabel('Airline')\n",
    "plt.ylabel('Negative Sentiment Percentage')\n",
    "plt.title('Negative Sentiment Percentage for Each Airline')\n",
    "\n",
    "# Show the plot\n",
    "plt.show()"
   ]
  },
  {
   "cell_type": "code",
   "execution_count": 36,
   "id": "790e84d7-4e23-470a-bac7-87080a061774",
   "metadata": {},
   "outputs": [
    {
     "data": {
      "text/plain": [
       "Customer Service Issue         811\n",
       "                               650\n",
       "Late Flight                    453\n",
       "Can't Tell                     246\n",
       "Cancelled Flight               189\n",
       "Lost Luggage                   154\n",
       "Flight Attendant Complaints    123\n",
       "Flight Booking Problems        122\n",
       "Bad Flight                     104\n",
       "longlines                       50\n",
       "Damaged Luggage                 11\n",
       "Name: negativereason, dtype: int64"
      ]
     },
     "execution_count": 36,
     "metadata": {},
     "output_type": "execute_result"
    }
   ],
   "source": [
    "df[df['airline']=='US Airways']['negativereason'].value_counts()"
   ]
  },
  {
   "cell_type": "code",
   "execution_count": 37,
   "id": "fdc916b9-70be-4586-8558-a67c79d784c7",
   "metadata": {},
   "outputs": [
    {
     "name": "stdout",
     "output_type": "stream",
     "text": [
      "Number of empty rows in 'negativereason' column: 0\n"
     ]
    }
   ],
   "source": [
    "# Checking for empty rows\n",
    "empty_rows_count = df['text'].isnull().sum() + (df['text'] == '').sum()\n",
    "\n",
    "print(\"Number of empty rows in 'negativereason' column:\", empty_rows_count)"
   ]
  },
  {
   "cell_type": "code",
   "execution_count": 38,
   "id": "e17b249b-3840-47e1-b804-f1263ebd7a27",
   "metadata": {},
   "outputs": [],
   "source": [
    "# Assuming 'text' is the column containing the tweet text\n",
    "df['preprocessed_text'] = df['text'].apply(preprocess_text)"
   ]
  },
  {
   "cell_type": "code",
   "execution_count": 39,
   "id": "84ad8897-7260-4967-bce5-2048e93a76f3",
   "metadata": {},
   "outputs": [],
   "source": [
    "# Split the dataset into training and testing sets\n",
    "X=df['text']\n",
    "y=df['airline_sentiment']\n",
    "\n",
    "X_train, X_test, y_train, y_test = train_test_split(X, y, test_size=0.2, random_state=42)\n",
    "\n",
    "# Use CountVectorizer on the preprocessed text\n",
    "vectorizer = CountVectorizer(stop_words='english')\n",
    "X_train_vectorized = vectorizer.fit_transform(X_train)\n",
    "X_test_vectorized = vectorizer.transform(X_test)"
   ]
  },
  {
   "cell_type": "code",
   "execution_count": 40,
   "id": "363f37c8-2206-4471-8458-ff4ae2729180",
   "metadata": {},
   "outputs": [
    {
     "data": {
      "text/html": [
       "<style>#sk-container-id-2 {color: black;background-color: white;}#sk-container-id-2 pre{padding: 0;}#sk-container-id-2 div.sk-toggleable {background-color: white;}#sk-container-id-2 label.sk-toggleable__label {cursor: pointer;display: block;width: 100%;margin-bottom: 0;padding: 0.3em;box-sizing: border-box;text-align: center;}#sk-container-id-2 label.sk-toggleable__label-arrow:before {content: \"▸\";float: left;margin-right: 0.25em;color: #696969;}#sk-container-id-2 label.sk-toggleable__label-arrow:hover:before {color: black;}#sk-container-id-2 div.sk-estimator:hover label.sk-toggleable__label-arrow:before {color: black;}#sk-container-id-2 div.sk-toggleable__content {max-height: 0;max-width: 0;overflow: hidden;text-align: left;background-color: #f0f8ff;}#sk-container-id-2 div.sk-toggleable__content pre {margin: 0.2em;color: black;border-radius: 0.25em;background-color: #f0f8ff;}#sk-container-id-2 input.sk-toggleable__control:checked~div.sk-toggleable__content {max-height: 200px;max-width: 100%;overflow: auto;}#sk-container-id-2 input.sk-toggleable__control:checked~label.sk-toggleable__label-arrow:before {content: \"▾\";}#sk-container-id-2 div.sk-estimator input.sk-toggleable__control:checked~label.sk-toggleable__label {background-color: #d4ebff;}#sk-container-id-2 div.sk-label input.sk-toggleable__control:checked~label.sk-toggleable__label {background-color: #d4ebff;}#sk-container-id-2 input.sk-hidden--visually {border: 0;clip: rect(1px 1px 1px 1px);clip: rect(1px, 1px, 1px, 1px);height: 1px;margin: -1px;overflow: hidden;padding: 0;position: absolute;width: 1px;}#sk-container-id-2 div.sk-estimator {font-family: monospace;background-color: #f0f8ff;border: 1px dotted black;border-radius: 0.25em;box-sizing: border-box;margin-bottom: 0.5em;}#sk-container-id-2 div.sk-estimator:hover {background-color: #d4ebff;}#sk-container-id-2 div.sk-parallel-item::after {content: \"\";width: 100%;border-bottom: 1px solid gray;flex-grow: 1;}#sk-container-id-2 div.sk-label:hover label.sk-toggleable__label {background-color: #d4ebff;}#sk-container-id-2 div.sk-serial::before {content: \"\";position: absolute;border-left: 1px solid gray;box-sizing: border-box;top: 0;bottom: 0;left: 50%;z-index: 0;}#sk-container-id-2 div.sk-serial {display: flex;flex-direction: column;align-items: center;background-color: white;padding-right: 0.2em;padding-left: 0.2em;position: relative;}#sk-container-id-2 div.sk-item {position: relative;z-index: 1;}#sk-container-id-2 div.sk-parallel {display: flex;align-items: stretch;justify-content: center;background-color: white;position: relative;}#sk-container-id-2 div.sk-item::before, #sk-container-id-2 div.sk-parallel-item::before {content: \"\";position: absolute;border-left: 1px solid gray;box-sizing: border-box;top: 0;bottom: 0;left: 50%;z-index: -1;}#sk-container-id-2 div.sk-parallel-item {display: flex;flex-direction: column;z-index: 1;position: relative;background-color: white;}#sk-container-id-2 div.sk-parallel-item:first-child::after {align-self: flex-end;width: 50%;}#sk-container-id-2 div.sk-parallel-item:last-child::after {align-self: flex-start;width: 50%;}#sk-container-id-2 div.sk-parallel-item:only-child::after {width: 0;}#sk-container-id-2 div.sk-dashed-wrapped {border: 1px dashed gray;margin: 0 0.4em 0.5em 0.4em;box-sizing: border-box;padding-bottom: 0.4em;background-color: white;}#sk-container-id-2 div.sk-label label {font-family: monospace;font-weight: bold;display: inline-block;line-height: 1.2em;}#sk-container-id-2 div.sk-label-container {text-align: center;}#sk-container-id-2 div.sk-container {/* jupyter's `normalize.less` sets `[hidden] { display: none; }` but bootstrap.min.css set `[hidden] { display: none !important; }` so we also need the `!important` here to be able to override the default hidden behavior on the sphinx rendered scikit-learn.org. See: https://github.com/scikit-learn/scikit-learn/issues/21755 */display: inline-block !important;position: relative;}#sk-container-id-2 div.sk-text-repr-fallback {display: none;}</style><div id=\"sk-container-id-2\" class=\"sk-top-container\"><div class=\"sk-text-repr-fallback\"><pre>MultinomialNB()</pre><b>In a Jupyter environment, please rerun this cell to show the HTML representation or trust the notebook. <br />On GitHub, the HTML representation is unable to render, please try loading this page with nbviewer.org.</b></div><div class=\"sk-container\" hidden><div class=\"sk-item\"><div class=\"sk-estimator sk-toggleable\"><input class=\"sk-toggleable__control sk-hidden--visually\" id=\"sk-estimator-id-2\" type=\"checkbox\" checked><label for=\"sk-estimator-id-2\" class=\"sk-toggleable__label sk-toggleable__label-arrow\">MultinomialNB</label><div class=\"sk-toggleable__content\"><pre>MultinomialNB()</pre></div></div></div></div></div>"
      ],
      "text/plain": [
       "MultinomialNB()"
      ]
     },
     "execution_count": 40,
     "metadata": {},
     "output_type": "execute_result"
    }
   ],
   "source": [
    "# Use a simple model (Naive Bayes in this example)\n",
    "model = MultinomialNB()\n",
    "model.fit(X_train_vectorized, y_train)"
   ]
  },
  {
   "cell_type": "code",
   "execution_count": 41,
   "id": "c5da422e-7536-4556-96e5-40e690948d92",
   "metadata": {},
   "outputs": [],
   "source": [
    "y_pred = model.predict(X_test_vectorized)"
   ]
  },
  {
   "cell_type": "code",
   "execution_count": 42,
   "id": "21f7e84f-4e73-4c5b-9629-a67b956e80d1",
   "metadata": {},
   "outputs": [
    {
     "name": "stdout",
     "output_type": "stream",
     "text": [
      "Accuracy: 0.7431826026924404\n",
      "Confusion Matrix:\n",
      "[[1698   60   25]\n",
      " [ 371  212   40]\n",
      " [ 206   42  243]]\n",
      "Classification Report:\n",
      "              precision    recall  f1-score   support\n",
      "\n",
      "    negative       0.75      0.95      0.84      1783\n",
      "     neutral       0.68      0.34      0.45       623\n",
      "    positive       0.79      0.49      0.61       491\n",
      "\n",
      "    accuracy                           0.74      2897\n",
      "   macro avg       0.74      0.60      0.63      2897\n",
      "weighted avg       0.74      0.74      0.72      2897\n",
      "\n"
     ]
    }
   ],
   "source": [
    "# Evaluate the model\n",
    "accuracy = accuracy_score(y_test, y_pred)\n",
    "conf_matrix = confusion_matrix(y_test, y_pred)\n",
    "class_report = classification_report(y_test, y_pred)\n",
    "\n",
    "print(f'Accuracy: {accuracy}')\n",
    "print(f'Confusion Matrix:\\n{conf_matrix}')\n",
    "print(f'Classification Report:\\n{class_report}')"
   ]
  },
  {
   "cell_type": "code",
   "execution_count": 43,
   "id": "cd5e4ffb-5b77-4615-93e4-78d32a2bad62",
   "metadata": {},
   "outputs": [
    {
     "name": "stdout",
     "output_type": "stream",
     "text": [
      "Random Forest Results:\n",
      "Accuracy: 0.7473248187780462\n",
      "Confusion Matrix:\n",
      "[[1602  135   46]\n",
      " [ 289  276   58]\n",
      " [ 143   61  287]]\n",
      "Classification Report:\n",
      "              precision    recall  f1-score   support\n",
      "\n",
      "    negative       0.79      0.90      0.84      1783\n",
      "     neutral       0.58      0.44      0.50       623\n",
      "    positive       0.73      0.58      0.65       491\n",
      "\n",
      "    accuracy                           0.75      2897\n",
      "   macro avg       0.70      0.64      0.66      2897\n",
      "weighted avg       0.73      0.75      0.74      2897\n",
      "\n"
     ]
    }
   ],
   "source": [
    "df['preprocessed_text'] = df['text'].apply(preprocess_text)\n",
    "\n",
    "# Features and labels\n",
    "X = df['preprocessed_text']\n",
    "y = df['airline_sentiment']\n",
    "\n",
    "# Split the dataset\n",
    "X_train, X_test, y_train, y_test = train_test_split(X, y, test_size=0.2, random_state=42)\n",
    "\n",
    "# Vectorize the text data\n",
    "vectorizer = CountVectorizer(stop_words='english')\n",
    "X_train_vectorized = vectorizer.fit_transform(X_train)\n",
    "X_test_vectorized = vectorizer.transform(X_test)\n",
    "\n",
    "# Random Forest Classifier\n",
    "rf_model = RandomForestClassifier(n_estimators=100, random_state=42)\n",
    "rf_model.fit(X_train_vectorized, y_train)\n",
    "rf_pred = rf_model.predict(X_test_vectorized)\n",
    "\n",
    "# Evaluate Random Forest\n",
    "print(\"Random Forest Results:\")\n",
    "print(f'Accuracy: {accuracy_score(y_test, rf_pred)}')\n",
    "print(f'Confusion Matrix:\\n{confusion_matrix(y_test, rf_pred)}')\n",
    "print(f'Classification Report:\\n{classification_report(y_test, rf_pred)}')"
   ]
  },
  {
   "cell_type": "code",
   "execution_count": 55,
   "id": "257ba827-1be3-4001-b379-15b9162b9e2a",
   "metadata": {},
   "outputs": [
    {
     "name": "stdout",
     "output_type": "stream",
     "text": [
      "\n",
      "SVM Results:\n",
      "Accuracy: 0.7566448049706593\n",
      "Confusion Matrix:\n",
      "[[1537  178   68]\n",
      " [ 225  333   65]\n",
      " [  97   72  322]]\n",
      "Classification Report:\n",
      "              precision    recall  f1-score   support\n",
      "\n",
      "    negative       0.83      0.86      0.84      1783\n",
      "     neutral       0.57      0.53      0.55       623\n",
      "    positive       0.71      0.66      0.68       491\n",
      "\n",
      "    accuracy                           0.76      2897\n",
      "   macro avg       0.70      0.68      0.69      2897\n",
      "weighted avg       0.75      0.76      0.75      2897\n",
      "\n"
     ]
    }
   ],
   "source": [
    "# Features and labels\n",
    "X = df['preprocessed_text']\n",
    "y = df['airline_sentiment']\n",
    "\n",
    "# Split the dataset\n",
    "X_train, X_test, y_train, y_test = train_test_split(X, y, test_size=0.2, random_state=42)\n",
    "\n",
    "# Vectorize the text data\n",
    "vectorizer = CountVectorizer(stop_words='english')\n",
    "X_train_vectorized = vectorizer.fit_transform(X_train)\n",
    "X_test_vectorized = vectorizer.transform(X_test)\n",
    "\n",
    "# SVM Classifier\n",
    "svm_model = SVC(kernel='linear', C=1, random_state=42)\n",
    "svm_model.fit(X_train_vectorized, y_train)\n",
    "svm_pred = svm_model.predict(X_test_vectorized)\n",
    "\n",
    "# Evaluate SVM\n",
    "print(\"\\nSVM Results:\")\n",
    "print(f'Accuracy: {accuracy_score(y_test, svm_pred)}')\n",
    "print(f'Confusion Matrix:\\n{confusion_matrix(y_test, svm_pred)}')\n",
    "print(f'Classification Report:\\n{classification_report(y_test, svm_pred)}')"
   ]
  },
  {
   "cell_type": "code",
   "execution_count": null,
   "id": "14df1ed6-19cc-4a30-a2da-be9200c4c0b7",
   "metadata": {},
   "outputs": [],
   "source": []
  }
 ],
 "metadata": {
  "kernelspec": {
   "display_name": "Python 3 (ipykernel)",
   "language": "python",
   "name": "python3"
  },
  "language_info": {
   "codemirror_mode": {
    "name": "ipython",
    "version": 3
   },
   "file_extension": ".py",
   "mimetype": "text/x-python",
   "name": "python",
   "nbconvert_exporter": "python",
   "pygments_lexer": "ipython3",
   "version": "3.10.9"
  }
 },
 "nbformat": 4,
 "nbformat_minor": 5
}
